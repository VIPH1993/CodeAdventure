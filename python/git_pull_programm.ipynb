{
 "cells": [
  {
   "cell_type": "markdown",
   "id": "45842ffc",
   "metadata": {},
   "source": [
    "## 🐍 Git mit Python aktualisieren\n",
    "\n",
    "Mit diesem kleinen Python-Programm kannst du dein Projekt ganz einfach **aktualisieren**, ohne das Terminal zu öffnen.  \n",
    "Das Skript führt im Hintergrund den Befehl `git pull` aus. Dadurch werden automatisch alle **neuen Aufgaben, Dateien oder Änderungen** aus dem Git-Repository heruntergeladen.\n",
    "\n",
    "Wenn du die Zelle ausführst:\n",
    "\n",
    "- prüft das Programm, ob es neue Inhalte im Repository gibt,  \n",
    "- zeigt die Ausgabe von Git direkt unter der Zelle an,  \n",
    "- und informiert dich, falls es Warnungen oder Fehler gibt (z. B. wenn Git nicht installiert ist).\n",
    "\n",
    "So bleibst du immer auf dem neuesten Stand – ganz bequem direkt im Jupyter Notebook!\n"
   ]
  },
  {
   "cell_type": "code",
   "execution_count": 1,
   "id": "bc77b094",
   "metadata": {},
   "outputs": [
    {
     "name": "stdout",
     "output_type": "stream",
     "text": [
      "🔄 Pulling latest changes from Git...\n",
      "\n",
      "⚠️ Git Meldung: Your configuration specifies to merge with the ref 'refs/heads/main'\n",
      "from the remote, but no such ref was fetched.\n",
      "\n"
     ]
    }
   ],
   "source": [
    "import subprocess\n",
    "\n",
    "# Führt den Befehl 'git pull' im aktuellen Ordner aus\n",
    "print(\"🔄 Pulling latest changes from Git...\\n\")\n",
    "\n",
    "try:\n",
    "    result = subprocess.run(\n",
    "        [\"git\", \"pull\"],\n",
    "        capture_output=True,\n",
    "        text=True,\n",
    "        check=False\n",
    "    )\n",
    "\n",
    "    # Ausgabe anzeigen\n",
    "    if result.stdout:\n",
    "        print(result.stdout)\n",
    "    if result.stderr:\n",
    "        print(\"⚠️ Git Meldung:\", result.stderr)\n",
    "\n",
    "except FileNotFoundError:\n",
    "    print(\"❌ Git ist nicht installiert oder nicht im Systempfad verfügbar.\")\n",
    "except Exception as e:\n",
    "    print(\"❌ Ein unerwarteter Fehler ist aufgetreten:\", e)"
   ]
  }
 ],
 "metadata": {
  "kernelspec": {
   "display_name": "Python 3",
   "language": "python",
   "name": "python3"
  },
  "language_info": {
   "codemirror_mode": {
    "name": "ipython",
    "version": 3
   },
   "file_extension": ".py",
   "mimetype": "text/x-python",
   "name": "python",
   "nbconvert_exporter": "python",
   "pygments_lexer": "ipython3",
   "version": "3.10.11"
  }
 },
 "nbformat": 4,
 "nbformat_minor": 5
}
